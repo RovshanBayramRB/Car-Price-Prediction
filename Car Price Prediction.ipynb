{
 "cells": [
  {
   "cell_type": "markdown",
   "metadata": {},
   "source": [
    "# Linear Regression"
   ]
  },
  {
   "cell_type": "code",
   "execution_count": 1,
   "metadata": {},
   "outputs": [],
   "source": [
    "#Importing Necessary Libraries\n",
    "import pandas as pd\n",
    "import numpy as np\n",
    "import re\n",
    "import matplotlib.pyplot as plt\n",
    "from mpl_toolkits.mplot3d import Axes3D\n",
    "from sklearn.model_selection import train_test_split\n",
    "from sklearn.linear_model import LinearRegression\n",
    "from sklearn import metrics"
   ]
  },
  {
   "cell_type": "markdown",
   "metadata": {},
   "source": [
    "## Loading Data, Extracting 3 Columns and Cleaning Them"
   ]
  },
  {
   "cell_type": "code",
   "execution_count": 2,
   "metadata": {},
   "outputs": [],
   "source": [
    "#Loading Data\n",
    "data = pd.read_csv(\"turboaz.csv\")"
   ]
  },
  {
   "cell_type": "code",
   "execution_count": 3,
   "metadata": {},
   "outputs": [
    {
     "data": {
      "text/html": [
       "<div>\n",
       "<style scoped>\n",
       "    .dataframe tbody tr th:only-of-type {\n",
       "        vertical-align: middle;\n",
       "    }\n",
       "\n",
       "    .dataframe tbody tr th {\n",
       "        vertical-align: top;\n",
       "    }\n",
       "\n",
       "    .dataframe thead th {\n",
       "        text-align: right;\n",
       "    }\n",
       "</style>\n",
       "<table border=\"1\" class=\"dataframe\">\n",
       "  <thead>\n",
       "    <tr style=\"text-align: right;\">\n",
       "      <th></th>\n",
       "      <th>Sheher</th>\n",
       "      <th>Marka</th>\n",
       "      <th>Model</th>\n",
       "      <th>Buraxilish ili</th>\n",
       "      <th>Ban novu</th>\n",
       "      <th>Reng</th>\n",
       "      <th>Muherrikin hecmi</th>\n",
       "      <th>Muherrikin gucu</th>\n",
       "      <th>Yanacaq novu</th>\n",
       "      <th>Yurush</th>\n",
       "      <th>Suretler qutusu</th>\n",
       "      <th>Oturucu</th>\n",
       "      <th>Yeni</th>\n",
       "      <th>Qiymet</th>\n",
       "      <th>Extra Info</th>\n",
       "      <th>Seller comment</th>\n",
       "    </tr>\n",
       "  </thead>\n",
       "  <tbody>\n",
       "    <tr>\n",
       "      <th>0</th>\n",
       "      <td>Sumqayıt</td>\n",
       "      <td>Mercedes</td>\n",
       "      <td>C 200</td>\n",
       "      <td>1999</td>\n",
       "      <td>Sedan</td>\n",
       "      <td>Qara</td>\n",
       "      <td>2.0 L</td>\n",
       "      <td>175 a.g.</td>\n",
       "      <td>Benzin</td>\n",
       "      <td>366 000 km</td>\n",
       "      <td>Avtomat</td>\n",
       "      <td>Arxa</td>\n",
       "      <td>Xeyr</td>\n",
       "      <td>12500 AZN</td>\n",
       "      <td>Kreditdədir</td>\n",
       "      <td>Barter mümkündür</td>\n",
       "    </tr>\n",
       "    <tr>\n",
       "      <th>1</th>\n",
       "      <td>Bakı</td>\n",
       "      <td>Mercedes</td>\n",
       "      <td>C 180</td>\n",
       "      <td>2014</td>\n",
       "      <td>Sedan</td>\n",
       "      <td>Qara</td>\n",
       "      <td>1.6 L</td>\n",
       "      <td>167 a.g.</td>\n",
       "      <td>Benzin</td>\n",
       "      <td>102 000 km</td>\n",
       "      <td>Avtomat</td>\n",
       "      <td>Arxa</td>\n",
       "      <td>Xeyr</td>\n",
       "      <td>31500 $</td>\n",
       "      <td>Barter mümkündür</td>\n",
       "      <td>Yüngül lehimli disklər,ABS,Yağış sensoru,Mərkə...</td>\n",
       "    </tr>\n",
       "    <tr>\n",
       "      <th>2</th>\n",
       "      <td>Sumqayıt</td>\n",
       "      <td>Mercedes</td>\n",
       "      <td>C 240</td>\n",
       "      <td>2002</td>\n",
       "      <td>Sedan</td>\n",
       "      <td>Qara</td>\n",
       "      <td>2.6 L</td>\n",
       "      <td>177 a.g.</td>\n",
       "      <td>Benzin</td>\n",
       "      <td>469 700 km</td>\n",
       "      <td>Avtomat</td>\n",
       "      <td>Arxa</td>\n",
       "      <td>Xeyr</td>\n",
       "      <td>11700 AZN</td>\n",
       "      <td>Kreditdədir</td>\n",
       "      <td>Barter mümkündür</td>\n",
       "    </tr>\n",
       "    <tr>\n",
       "      <th>3</th>\n",
       "      <td>Şirvan</td>\n",
       "      <td>Mercedes</td>\n",
       "      <td>C 180</td>\n",
       "      <td>1998</td>\n",
       "      <td>Sedan</td>\n",
       "      <td>Göy</td>\n",
       "      <td>1.8 L</td>\n",
       "      <td>125 a.g.</td>\n",
       "      <td>Benzin</td>\n",
       "      <td>556 680 km</td>\n",
       "      <td>Avtomat</td>\n",
       "      <td>Arxa</td>\n",
       "      <td>Xeyr</td>\n",
       "      <td>9700 AZN</td>\n",
       "      <td>Yüngül lehimli disklər,ABS,Mərkəzi qapanma,Kon...</td>\n",
       "      <td>Mawin BAKIDADI. Tecili satilir yaxwi veziyetde...</td>\n",
       "    </tr>\n",
       "    <tr>\n",
       "      <th>4</th>\n",
       "      <td>Sumqayıt</td>\n",
       "      <td>Mercedes</td>\n",
       "      <td>C 220</td>\n",
       "      <td>2000</td>\n",
       "      <td>Sedan</td>\n",
       "      <td>Gümüşü</td>\n",
       "      <td>2.2 L</td>\n",
       "      <td>150 a.g.</td>\n",
       "      <td>Dizel</td>\n",
       "      <td>300 000 km</td>\n",
       "      <td>Avtomat</td>\n",
       "      <td>Arxa</td>\n",
       "      <td>Xeyr</td>\n",
       "      <td>12700 AZN</td>\n",
       "      <td>Yüngül lehimli disklər,ABS,Mərkəzi qapanma,Par...</td>\n",
       "      <td>Vurugu udari deyisen detali curuyu qetiyyen yo...</td>\n",
       "    </tr>\n",
       "    <tr>\n",
       "      <th>...</th>\n",
       "      <td>...</td>\n",
       "      <td>...</td>\n",
       "      <td>...</td>\n",
       "      <td>...</td>\n",
       "      <td>...</td>\n",
       "      <td>...</td>\n",
       "      <td>...</td>\n",
       "      <td>...</td>\n",
       "      <td>...</td>\n",
       "      <td>...</td>\n",
       "      <td>...</td>\n",
       "      <td>...</td>\n",
       "      <td>...</td>\n",
       "      <td>...</td>\n",
       "      <td>...</td>\n",
       "      <td>...</td>\n",
       "    </tr>\n",
       "    <tr>\n",
       "      <th>1323</th>\n",
       "      <td>Bakı</td>\n",
       "      <td>Mercedes</td>\n",
       "      <td>C 180</td>\n",
       "      <td>1996</td>\n",
       "      <td>Sedan</td>\n",
       "      <td>Boz</td>\n",
       "      <td>1.8 L</td>\n",
       "      <td>122 a.g.</td>\n",
       "      <td>Benzin</td>\n",
       "      <td>325 000 km</td>\n",
       "      <td>Avtomat</td>\n",
       "      <td>Arxa</td>\n",
       "      <td>Xeyr</td>\n",
       "      <td>8800 AZN</td>\n",
       "      <td>Yüngül lehimli disklər,Lyuk</td>\n",
       "      <td>Mawin ozumundu 10ildi mendedi udar gormeyib vu...</td>\n",
       "    </tr>\n",
       "    <tr>\n",
       "      <th>1324</th>\n",
       "      <td>Sumqayıt</td>\n",
       "      <td>Mercedes</td>\n",
       "      <td>C 180</td>\n",
       "      <td>1994</td>\n",
       "      <td>Sedan</td>\n",
       "      <td>Bənövşəyi</td>\n",
       "      <td>1.8 L</td>\n",
       "      <td>122 a.g.</td>\n",
       "      <td>Benzin</td>\n",
       "      <td>280 000 km</td>\n",
       "      <td>Avtomat</td>\n",
       "      <td>Arxa</td>\n",
       "      <td>Xeyr</td>\n",
       "      <td>6300 AZN</td>\n",
       "      <td>Yüngül lehimli disklər,ABS,Lyuk,Yağış sensoru,...</td>\n",
       "      <td>Normal maşindi ...otur sūr..problemi yoxdu..öz...</td>\n",
       "    </tr>\n",
       "    <tr>\n",
       "      <th>1325</th>\n",
       "      <td>Bakı</td>\n",
       "      <td>Mercedes</td>\n",
       "      <td>C 230</td>\n",
       "      <td>1998</td>\n",
       "      <td>Sedan</td>\n",
       "      <td>Ağ</td>\n",
       "      <td>2.3 L</td>\n",
       "      <td>150 a.g.</td>\n",
       "      <td>Benzin</td>\n",
       "      <td>272 000 km</td>\n",
       "      <td>Avtomat</td>\n",
       "      <td>Arxa</td>\n",
       "      <td>Xeyr</td>\n",
       "      <td>10900 AZN</td>\n",
       "      <td>Yüngül lehimli disklər,ABS,Lyuk,Mərkəzi qapanm...</td>\n",
       "      <td>MASHIN TECILI SATILIR!! Mashin tam saz veziyet...</td>\n",
       "    </tr>\n",
       "    <tr>\n",
       "      <th>1326</th>\n",
       "      <td>Qusar</td>\n",
       "      <td>Mercedes</td>\n",
       "      <td>C 240</td>\n",
       "      <td>2000</td>\n",
       "      <td>Sedan</td>\n",
       "      <td>Gümüşü</td>\n",
       "      <td>2.4 L</td>\n",
       "      <td>170 a.g.</td>\n",
       "      <td>Benzin</td>\n",
       "      <td>207 000 km</td>\n",
       "      <td>Avtomat</td>\n",
       "      <td>Arxa</td>\n",
       "      <td>Xeyr</td>\n",
       "      <td>11300 AZN</td>\n",
       "      <td>Barter mümkündür</td>\n",
       "      <td>Yüngül lehimli disklər,ABS,Yağış sensoru,Mərkə...</td>\n",
       "    </tr>\n",
       "    <tr>\n",
       "      <th>1327</th>\n",
       "      <td>Bakı</td>\n",
       "      <td>Mercedes</td>\n",
       "      <td>C 220</td>\n",
       "      <td>1996</td>\n",
       "      <td>Sedan</td>\n",
       "      <td>Qara</td>\n",
       "      <td>2.2 L</td>\n",
       "      <td>146 a.g.</td>\n",
       "      <td>Benzin</td>\n",
       "      <td>255 700 km</td>\n",
       "      <td>Avtomat</td>\n",
       "      <td>Arxa</td>\n",
       "      <td>Xeyr</td>\n",
       "      <td>10500 AZN</td>\n",
       "      <td>Yüngül lehimli disklər,ABS,Lyuk,Mərkəzi qapanm...</td>\n",
       "      <td>Kondisioner klimat kontrol, panarama lyuk, otu...</td>\n",
       "    </tr>\n",
       "  </tbody>\n",
       "</table>\n",
       "<p>1328 rows × 16 columns</p>\n",
       "</div>"
      ],
      "text/plain": [
       "        Sheher     Marka  Model  Buraxilish ili Ban novu       Reng  \\\n",
       "0     Sumqayıt  Mercedes  C 200            1999    Sedan       Qara   \n",
       "1         Bakı  Mercedes  C 180            2014    Sedan       Qara   \n",
       "2     Sumqayıt  Mercedes  C 240            2002    Sedan       Qara   \n",
       "3       Şirvan  Mercedes  C 180            1998    Sedan        Göy   \n",
       "4     Sumqayıt  Mercedes  C 220            2000    Sedan     Gümüşü   \n",
       "...        ...       ...    ...             ...      ...        ...   \n",
       "1323      Bakı  Mercedes  C 180            1996    Sedan        Boz   \n",
       "1324  Sumqayıt  Mercedes  C 180            1994    Sedan  Bənövşəyi   \n",
       "1325      Bakı  Mercedes  C 230            1998    Sedan         Ağ   \n",
       "1326     Qusar  Mercedes  C 240            2000    Sedan     Gümüşü   \n",
       "1327      Bakı  Mercedes  C 220            1996    Sedan       Qara   \n",
       "\n",
       "     Muherrikin hecmi Muherrikin gucu Yanacaq novu      Yurush  \\\n",
       "0               2.0 L        175 a.g.       Benzin  366 000 km   \n",
       "1               1.6 L        167 a.g.       Benzin  102 000 km   \n",
       "2               2.6 L        177 a.g.       Benzin  469 700 km   \n",
       "3               1.8 L        125 a.g.       Benzin  556 680 km   \n",
       "4               2.2 L        150 a.g.        Dizel  300 000 km   \n",
       "...               ...             ...          ...         ...   \n",
       "1323            1.8 L        122 a.g.       Benzin  325 000 km   \n",
       "1324            1.8 L        122 a.g.       Benzin  280 000 km   \n",
       "1325            2.3 L        150 a.g.       Benzin  272 000 km   \n",
       "1326            2.4 L        170 a.g.       Benzin  207 000 km   \n",
       "1327            2.2 L        146 a.g.       Benzin  255 700 km   \n",
       "\n",
       "     Suretler qutusu Oturucu  Yeni     Qiymet  \\\n",
       "0            Avtomat    Arxa  Xeyr  12500 AZN   \n",
       "1            Avtomat    Arxa  Xeyr    31500 $   \n",
       "2            Avtomat    Arxa  Xeyr  11700 AZN   \n",
       "3            Avtomat    Arxa  Xeyr   9700 AZN   \n",
       "4            Avtomat    Arxa  Xeyr  12700 AZN   \n",
       "...              ...     ...   ...        ...   \n",
       "1323         Avtomat    Arxa  Xeyr   8800 AZN   \n",
       "1324         Avtomat    Arxa  Xeyr   6300 AZN   \n",
       "1325         Avtomat    Arxa  Xeyr  10900 AZN   \n",
       "1326         Avtomat    Arxa  Xeyr  11300 AZN   \n",
       "1327         Avtomat    Arxa  Xeyr  10500 AZN   \n",
       "\n",
       "                                             Extra Info  \\\n",
       "0                                           Kreditdədir   \n",
       "1                                      Barter mümkündür   \n",
       "2                                           Kreditdədir   \n",
       "3     Yüngül lehimli disklər,ABS,Mərkəzi qapanma,Kon...   \n",
       "4     Yüngül lehimli disklər,ABS,Mərkəzi qapanma,Par...   \n",
       "...                                                 ...   \n",
       "1323                        Yüngül lehimli disklər,Lyuk   \n",
       "1324  Yüngül lehimli disklər,ABS,Lyuk,Yağış sensoru,...   \n",
       "1325  Yüngül lehimli disklər,ABS,Lyuk,Mərkəzi qapanm...   \n",
       "1326                                   Barter mümkündür   \n",
       "1327  Yüngül lehimli disklər,ABS,Lyuk,Mərkəzi qapanm...   \n",
       "\n",
       "                                         Seller comment  \n",
       "0                                      Barter mümkündür  \n",
       "1     Yüngül lehimli disklər,ABS,Yağış sensoru,Mərkə...  \n",
       "2                                      Barter mümkündür  \n",
       "3     Mawin BAKIDADI. Tecili satilir yaxwi veziyetde...  \n",
       "4     Vurugu udari deyisen detali curuyu qetiyyen yo...  \n",
       "...                                                 ...  \n",
       "1323  Mawin ozumundu 10ildi mendedi udar gormeyib vu...  \n",
       "1324  Normal maşindi ...otur sūr..problemi yoxdu..öz...  \n",
       "1325  MASHIN TECILI SATILIR!! Mashin tam saz veziyet...  \n",
       "1326  Yüngül lehimli disklər,ABS,Yağış sensoru,Mərkə...  \n",
       "1327  Kondisioner klimat kontrol, panarama lyuk, otu...  \n",
       "\n",
       "[1328 rows x 16 columns]"
      ]
     },
     "execution_count": 3,
     "metadata": {},
     "output_type": "execute_result"
    }
   ],
   "source": [
    "data"
   ]
  },
  {
   "cell_type": "code",
   "execution_count": 4,
   "metadata": {},
   "outputs": [],
   "source": [
    "#Extracting 3 columns\n",
    "data = data[[\"Yurush\", \"Buraxilish ili\", \"Qiymet\"]]"
   ]
  },
  {
   "cell_type": "code",
   "execution_count": 5,
   "metadata": {},
   "outputs": [
    {
     "data": {
      "text/html": [
       "<div>\n",
       "<style scoped>\n",
       "    .dataframe tbody tr th:only-of-type {\n",
       "        vertical-align: middle;\n",
       "    }\n",
       "\n",
       "    .dataframe tbody tr th {\n",
       "        vertical-align: top;\n",
       "    }\n",
       "\n",
       "    .dataframe thead th {\n",
       "        text-align: right;\n",
       "    }\n",
       "</style>\n",
       "<table border=\"1\" class=\"dataframe\">\n",
       "  <thead>\n",
       "    <tr style=\"text-align: right;\">\n",
       "      <th></th>\n",
       "      <th>Yurush</th>\n",
       "      <th>Buraxilish ili</th>\n",
       "      <th>Qiymet</th>\n",
       "    </tr>\n",
       "  </thead>\n",
       "  <tbody>\n",
       "    <tr>\n",
       "      <th>0</th>\n",
       "      <td>366 000 km</td>\n",
       "      <td>1999</td>\n",
       "      <td>12500 AZN</td>\n",
       "    </tr>\n",
       "    <tr>\n",
       "      <th>1</th>\n",
       "      <td>102 000 km</td>\n",
       "      <td>2014</td>\n",
       "      <td>31500 $</td>\n",
       "    </tr>\n",
       "    <tr>\n",
       "      <th>2</th>\n",
       "      <td>469 700 km</td>\n",
       "      <td>2002</td>\n",
       "      <td>11700 AZN</td>\n",
       "    </tr>\n",
       "    <tr>\n",
       "      <th>3</th>\n",
       "      <td>556 680 km</td>\n",
       "      <td>1998</td>\n",
       "      <td>9700 AZN</td>\n",
       "    </tr>\n",
       "    <tr>\n",
       "      <th>4</th>\n",
       "      <td>300 000 km</td>\n",
       "      <td>2000</td>\n",
       "      <td>12700 AZN</td>\n",
       "    </tr>\n",
       "    <tr>\n",
       "      <th>...</th>\n",
       "      <td>...</td>\n",
       "      <td>...</td>\n",
       "      <td>...</td>\n",
       "    </tr>\n",
       "    <tr>\n",
       "      <th>1323</th>\n",
       "      <td>325 000 km</td>\n",
       "      <td>1996</td>\n",
       "      <td>8800 AZN</td>\n",
       "    </tr>\n",
       "    <tr>\n",
       "      <th>1324</th>\n",
       "      <td>280 000 km</td>\n",
       "      <td>1994</td>\n",
       "      <td>6300 AZN</td>\n",
       "    </tr>\n",
       "    <tr>\n",
       "      <th>1325</th>\n",
       "      <td>272 000 km</td>\n",
       "      <td>1998</td>\n",
       "      <td>10900 AZN</td>\n",
       "    </tr>\n",
       "    <tr>\n",
       "      <th>1326</th>\n",
       "      <td>207 000 km</td>\n",
       "      <td>2000</td>\n",
       "      <td>11300 AZN</td>\n",
       "    </tr>\n",
       "    <tr>\n",
       "      <th>1327</th>\n",
       "      <td>255 700 km</td>\n",
       "      <td>1996</td>\n",
       "      <td>10500 AZN</td>\n",
       "    </tr>\n",
       "  </tbody>\n",
       "</table>\n",
       "<p>1328 rows × 3 columns</p>\n",
       "</div>"
      ],
      "text/plain": [
       "          Yurush  Buraxilish ili     Qiymet\n",
       "0     366 000 km            1999  12500 AZN\n",
       "1     102 000 km            2014    31500 $\n",
       "2     469 700 km            2002  11700 AZN\n",
       "3     556 680 km            1998   9700 AZN\n",
       "4     300 000 km            2000  12700 AZN\n",
       "...          ...             ...        ...\n",
       "1323  325 000 km            1996   8800 AZN\n",
       "1324  280 000 km            1994   6300 AZN\n",
       "1325  272 000 km            1998  10900 AZN\n",
       "1326  207 000 km            2000  11300 AZN\n",
       "1327  255 700 km            1996  10500 AZN\n",
       "\n",
       "[1328 rows x 3 columns]"
      ]
     },
     "execution_count": 5,
     "metadata": {},
     "output_type": "execute_result"
    }
   ],
   "source": [
    "data"
   ]
  },
  {
   "cell_type": "code",
   "execution_count": 6,
   "metadata": {},
   "outputs": [],
   "source": [
    "#Creating Function for cleaning \"Yurush\" column\n",
    "def CleanYurush(yurush):\n",
    "    yurush = re.sub(r\" km\", \"\", yurush)\n",
    "    yurush = re.sub(r\" \", \"\", yurush)\n",
    "    yurush = int(yurush)\n",
    "    return yurush"
   ]
  },
  {
   "cell_type": "code",
   "execution_count": 7,
   "metadata": {},
   "outputs": [
    {
     "name": "stderr",
     "output_type": "stream",
     "text": [
      "<ipython-input-7-1042f10b4c0e>:2: SettingWithCopyWarning: \n",
      "A value is trying to be set on a copy of a slice from a DataFrame.\n",
      "Try using .loc[row_indexer,col_indexer] = value instead\n",
      "\n",
      "See the caveats in the documentation: https://pandas.pydata.org/pandas-docs/stable/user_guide/indexing.html#returning-a-view-versus-a-copy\n",
      "  data['Yurush'] = data['Yurush'].apply(lambda yurush: CleanYurush(yurush))\n"
     ]
    }
   ],
   "source": [
    "#Cleaning \"Yurush\" column\n",
    "data['Yurush'] = data['Yurush'].apply(lambda yurush: CleanYurush(yurush))"
   ]
  },
  {
   "cell_type": "code",
   "execution_count": 8,
   "metadata": {},
   "outputs": [
    {
     "data": {
      "text/html": [
       "<div>\n",
       "<style scoped>\n",
       "    .dataframe tbody tr th:only-of-type {\n",
       "        vertical-align: middle;\n",
       "    }\n",
       "\n",
       "    .dataframe tbody tr th {\n",
       "        vertical-align: top;\n",
       "    }\n",
       "\n",
       "    .dataframe thead th {\n",
       "        text-align: right;\n",
       "    }\n",
       "</style>\n",
       "<table border=\"1\" class=\"dataframe\">\n",
       "  <thead>\n",
       "    <tr style=\"text-align: right;\">\n",
       "      <th></th>\n",
       "      <th>Yurush</th>\n",
       "      <th>Buraxilish ili</th>\n",
       "      <th>Qiymet</th>\n",
       "    </tr>\n",
       "  </thead>\n",
       "  <tbody>\n",
       "    <tr>\n",
       "      <th>0</th>\n",
       "      <td>366000</td>\n",
       "      <td>1999</td>\n",
       "      <td>12500 AZN</td>\n",
       "    </tr>\n",
       "    <tr>\n",
       "      <th>1</th>\n",
       "      <td>102000</td>\n",
       "      <td>2014</td>\n",
       "      <td>31500 $</td>\n",
       "    </tr>\n",
       "    <tr>\n",
       "      <th>2</th>\n",
       "      <td>469700</td>\n",
       "      <td>2002</td>\n",
       "      <td>11700 AZN</td>\n",
       "    </tr>\n",
       "    <tr>\n",
       "      <th>3</th>\n",
       "      <td>556680</td>\n",
       "      <td>1998</td>\n",
       "      <td>9700 AZN</td>\n",
       "    </tr>\n",
       "    <tr>\n",
       "      <th>4</th>\n",
       "      <td>300000</td>\n",
       "      <td>2000</td>\n",
       "      <td>12700 AZN</td>\n",
       "    </tr>\n",
       "    <tr>\n",
       "      <th>...</th>\n",
       "      <td>...</td>\n",
       "      <td>...</td>\n",
       "      <td>...</td>\n",
       "    </tr>\n",
       "    <tr>\n",
       "      <th>1323</th>\n",
       "      <td>325000</td>\n",
       "      <td>1996</td>\n",
       "      <td>8800 AZN</td>\n",
       "    </tr>\n",
       "    <tr>\n",
       "      <th>1324</th>\n",
       "      <td>280000</td>\n",
       "      <td>1994</td>\n",
       "      <td>6300 AZN</td>\n",
       "    </tr>\n",
       "    <tr>\n",
       "      <th>1325</th>\n",
       "      <td>272000</td>\n",
       "      <td>1998</td>\n",
       "      <td>10900 AZN</td>\n",
       "    </tr>\n",
       "    <tr>\n",
       "      <th>1326</th>\n",
       "      <td>207000</td>\n",
       "      <td>2000</td>\n",
       "      <td>11300 AZN</td>\n",
       "    </tr>\n",
       "    <tr>\n",
       "      <th>1327</th>\n",
       "      <td>255700</td>\n",
       "      <td>1996</td>\n",
       "      <td>10500 AZN</td>\n",
       "    </tr>\n",
       "  </tbody>\n",
       "</table>\n",
       "<p>1328 rows × 3 columns</p>\n",
       "</div>"
      ],
      "text/plain": [
       "      Yurush  Buraxilish ili     Qiymet\n",
       "0     366000            1999  12500 AZN\n",
       "1     102000            2014    31500 $\n",
       "2     469700            2002  11700 AZN\n",
       "3     556680            1998   9700 AZN\n",
       "4     300000            2000  12700 AZN\n",
       "...      ...             ...        ...\n",
       "1323  325000            1996   8800 AZN\n",
       "1324  280000            1994   6300 AZN\n",
       "1325  272000            1998  10900 AZN\n",
       "1326  207000            2000  11300 AZN\n",
       "1327  255700            1996  10500 AZN\n",
       "\n",
       "[1328 rows x 3 columns]"
      ]
     },
     "execution_count": 8,
     "metadata": {},
     "output_type": "execute_result"
    }
   ],
   "source": [
    "data"
   ]
  },
  {
   "cell_type": "code",
   "execution_count": 9,
   "metadata": {},
   "outputs": [],
   "source": [
    "#Creating Function for cleaning \"Qiymet\" column\n",
    "def CleanQiymet(qiymet):\n",
    "    if qiymet[len(qiymet) - 1] == \"$\":\n",
    "        qiymet = re.sub(r\" \\$\", \"\", qiymet)\n",
    "        qiymet = re.sub(r\" \", \"\", qiymet)\n",
    "        qiymet = int(int(qiymet)*1.70)\n",
    "    elif qiymet[len(qiymet) - 3:] == \"AZN\":\n",
    "        qiymet = re.sub(r\" AZN\", \"\", qiymet)\n",
    "        qiymet = re.sub(r\" \", \"\", qiymet)\n",
    "        qiymet = int(qiymet)\n",
    "    else:\n",
    "        qiymet = re.sub(r\" \", \"\", qiymet)\n",
    "        qiymet = int(qiymet)\n",
    "    return qiymet"
   ]
  },
  {
   "cell_type": "code",
   "execution_count": 10,
   "metadata": {},
   "outputs": [
    {
     "name": "stderr",
     "output_type": "stream",
     "text": [
      "<ipython-input-10-536be1ae1682>:2: SettingWithCopyWarning: \n",
      "A value is trying to be set on a copy of a slice from a DataFrame.\n",
      "Try using .loc[row_indexer,col_indexer] = value instead\n",
      "\n",
      "See the caveats in the documentation: https://pandas.pydata.org/pandas-docs/stable/user_guide/indexing.html#returning-a-view-versus-a-copy\n",
      "  data['Qiymet'] = data['Qiymet'].apply(lambda qiymet: CleanQiymet(qiymet))\n"
     ]
    }
   ],
   "source": [
    "#Cleaning \"Qiymet\" column\n",
    "data['Qiymet'] = data['Qiymet'].apply(lambda qiymet: CleanQiymet(qiymet))"
   ]
  },
  {
   "cell_type": "code",
   "execution_count": 11,
   "metadata": {},
   "outputs": [
    {
     "data": {
      "text/html": [
       "<div>\n",
       "<style scoped>\n",
       "    .dataframe tbody tr th:only-of-type {\n",
       "        vertical-align: middle;\n",
       "    }\n",
       "\n",
       "    .dataframe tbody tr th {\n",
       "        vertical-align: top;\n",
       "    }\n",
       "\n",
       "    .dataframe thead th {\n",
       "        text-align: right;\n",
       "    }\n",
       "</style>\n",
       "<table border=\"1\" class=\"dataframe\">\n",
       "  <thead>\n",
       "    <tr style=\"text-align: right;\">\n",
       "      <th></th>\n",
       "      <th>Yurush</th>\n",
       "      <th>Buraxilish ili</th>\n",
       "      <th>Qiymet</th>\n",
       "    </tr>\n",
       "  </thead>\n",
       "  <tbody>\n",
       "    <tr>\n",
       "      <th>0</th>\n",
       "      <td>366000</td>\n",
       "      <td>1999</td>\n",
       "      <td>12500</td>\n",
       "    </tr>\n",
       "    <tr>\n",
       "      <th>1</th>\n",
       "      <td>102000</td>\n",
       "      <td>2014</td>\n",
       "      <td>53550</td>\n",
       "    </tr>\n",
       "    <tr>\n",
       "      <th>2</th>\n",
       "      <td>469700</td>\n",
       "      <td>2002</td>\n",
       "      <td>11700</td>\n",
       "    </tr>\n",
       "    <tr>\n",
       "      <th>3</th>\n",
       "      <td>556680</td>\n",
       "      <td>1998</td>\n",
       "      <td>9700</td>\n",
       "    </tr>\n",
       "    <tr>\n",
       "      <th>4</th>\n",
       "      <td>300000</td>\n",
       "      <td>2000</td>\n",
       "      <td>12700</td>\n",
       "    </tr>\n",
       "    <tr>\n",
       "      <th>...</th>\n",
       "      <td>...</td>\n",
       "      <td>...</td>\n",
       "      <td>...</td>\n",
       "    </tr>\n",
       "    <tr>\n",
       "      <th>1323</th>\n",
       "      <td>325000</td>\n",
       "      <td>1996</td>\n",
       "      <td>8800</td>\n",
       "    </tr>\n",
       "    <tr>\n",
       "      <th>1324</th>\n",
       "      <td>280000</td>\n",
       "      <td>1994</td>\n",
       "      <td>6300</td>\n",
       "    </tr>\n",
       "    <tr>\n",
       "      <th>1325</th>\n",
       "      <td>272000</td>\n",
       "      <td>1998</td>\n",
       "      <td>10900</td>\n",
       "    </tr>\n",
       "    <tr>\n",
       "      <th>1326</th>\n",
       "      <td>207000</td>\n",
       "      <td>2000</td>\n",
       "      <td>11300</td>\n",
       "    </tr>\n",
       "    <tr>\n",
       "      <th>1327</th>\n",
       "      <td>255700</td>\n",
       "      <td>1996</td>\n",
       "      <td>10500</td>\n",
       "    </tr>\n",
       "  </tbody>\n",
       "</table>\n",
       "<p>1328 rows × 3 columns</p>\n",
       "</div>"
      ],
      "text/plain": [
       "      Yurush  Buraxilish ili  Qiymet\n",
       "0     366000            1999   12500\n",
       "1     102000            2014   53550\n",
       "2     469700            2002   11700\n",
       "3     556680            1998    9700\n",
       "4     300000            2000   12700\n",
       "...      ...             ...     ...\n",
       "1323  325000            1996    8800\n",
       "1324  280000            1994    6300\n",
       "1325  272000            1998   10900\n",
       "1326  207000            2000   11300\n",
       "1327  255700            1996   10500\n",
       "\n",
       "[1328 rows x 3 columns]"
      ]
     },
     "execution_count": 11,
     "metadata": {},
     "output_type": "execute_result"
    }
   ],
   "source": [
    "data"
   ]
  },
  {
   "cell_type": "markdown",
   "metadata": {},
   "source": [
    "## Vizualization Part 1"
   ]
  },
  {
   "cell_type": "code",
   "execution_count": 12,
   "metadata": {},
   "outputs": [
    {
     "data": {
      "image/png": "[encoded data removed]",
      "text/plain": [
       "<Figure size 432x288 with 1 Axes>"
      ]
     },
     "metadata": {
      "needs_background": "light"
     },
     "output_type": "display_data"
    }
   ],
   "source": [
    "#Vizualizing \"Yurush\" and \"Qiymet\"\n",
    "plt.scatter(data[\"Yurush\"], data[\"Qiymet\"], c = 'b')\n",
    "plt.xlabel(\"Qiymet\")\n",
    "plt.ylabel(\"Yurush\")\n",
    "plt.show()"
   ]
  },
  {
   "cell_type": "code",
   "execution_count": 13,
   "metadata": {},
   "outputs": [
    {
     "data": {
      "image/png": "[encoded data removed]",
      "text/plain": [
       "<Figure size 432x288 with 1 Axes>"
      ]
     },
     "metadata": {
      "needs_background": "light"
     },
     "output_type": "display_data"
    }
   ],
   "source": [
    "#Vizualizing \"Buraxilish ili\" and \"Qiymet\"\n",
    "plt.scatter(data[\"Buraxilish ili\"], data[\"Qiymet\"], c = 'm')\n",
    "plt.xlabel(\"Qiymet\")\n",
    "plt.ylabel(\"Buraxilish ili\")\n",
    "plt.show()"
   ]
  },
  {
   "cell_type": "code",
   "execution_count": 14,
   "metadata": {},
   "outputs": [
    {
     "data": {
      "image/png": "[encoded data removed]",
      "text/plain": [
       "<Figure size 432x288 with 1 Axes>"
      ]
     },
     "metadata": {
      "needs_background": "light"
     },
     "output_type": "display_data"
    }
   ],
   "source": [
    "#Vizualazing 3D plot of all 3 Column Values, \"Yurush\", \"Buraxilish ili\", \"Qiymet\"\n",
    "figure = plt.figure()\n",
    "threeD = Axes3D(figure)\n",
    "threeD.scatter(data[\"Yurush\"], data[\"Buraxilish ili\"], data[\"Qiymet\"], color = 'r')\n",
    "plt.show()"
   ]
  },
  {
   "cell_type": "markdown",
   "metadata": {},
   "source": [
    "## Multiple Linear Regression from Scratch"
   ]
  },
  {
   "cell_type": "code",
   "execution_count": 15,
   "metadata": {},
   "outputs": [
    {
     "name": "stdout",
     "output_type": "stream",
     "text": [
      "Total no of training examples m = 1328 \n",
      "\n",
      "x = [366000   1999] , y = 12500\n",
      "x = [102000   2014] , y = 53550\n",
      "x = [469700   2002] , y = 11700\n",
      "x = [556680   1998] , y = 9700\n",
      "x = [300000   2000] , y = 12700\n"
     ]
    }
   ],
   "source": [
    "#Selecting input and output columns\n",
    "x = data.values[:, 0:2]  #getting input values from first two columns\n",
    "y = data.values[:, 2]  #getting output values from last coulmn\n",
    "m = len(y) #Number of training examples\n",
    "\n",
    "print(\"Total no of training examples m = %s \\n\" %(m))\n",
    "\n",
    "#Showing first 5 records to see how the input and output columns look like\n",
    "for i in range(5):\n",
    "    print('x =', x[i], ', y =', y[i])"
   ]
  },
  {
   "cell_type": "markdown",
   "metadata": {},
   "source": [
    "## Feature Normalization\n",
    "\n",
    "We start by loading and displaying some values from this dataset. When features differ by orders of magnitude, first performing feature scaling can make gradient descent converge much more quickly.\n",
    "\n",
    "Our task here is to create the code called `FeatureNormalize` function:\n",
    "- Subtract the mean value of each feature from the dataset.\n",
    "- After subtracting the mean, additionally scale (divide) the feature values by their respective “standard deviations.”\n",
    "\n",
    "The standard deviation is a way of measuring how much variation there is in the range of values of a particular feature (most data points will lie within ±2 standard deviations of the mean); this is an alternative to taking the range of values (max-min). In `numpy`, we can use the `std` function to compute the standard deviation. \n",
    "\n",
    "For example, the quantity `x[:, 0]` contains all the values of $x_1$ (house sizes) in the training set, so `np.std(X[:, 0])` computes the standard deviation of the house sizes.\n",
    "At the time that the function `FeatureNormalize` is called, the extra column of 1’s corresponding to $x_0 = 1$ has not yet been added to $x$. Or, we can make this call before adding column of ones to our input data in order to avoid array slicing in the function generation as shown below code.\n",
    "\n",
    "<div class=\"alert alert-block alert-warning\">\n",
    "**Implementation Note:** When normalizing the features, it is important to store the values used for normalization - the mean value and the standard deviation used for the computations. After learning the parameters from the model, we often want to predict the prices of cars we have not seen before. Given a new x value, we must first normalize x using the mean and standard deviation that we had previously computed from the training set.\n",
    "</div>"
   ]
  },
  {
   "cell_type": "code",
   "execution_count": 16,
   "metadata": {},
   "outputs": [],
   "source": [
    "#Normalizing the input data\n",
    "def FeatureNormalize(x):\n",
    "    mu = np.mean(x, axis = 0) #Finding average of each input columns  \n",
    "    sigma = np.std(x, axis = 0, ddof = 1) #Standard deviation (can also use range) ddof (Delta Degrees of Freedom) value is 1\n",
    "    x_norm = (x - mu)/sigma\n",
    "    return x_norm, mu, sigma"
   ]
  },
  {
   "cell_type": "code",
   "execution_count": 17,
   "metadata": {},
   "outputs": [
    {
     "name": "stdout",
     "output_type": "stream",
     "text": [
      "mu=  [279649.92168675   1999.86596386]\n",
      "sigma=  [1.20619608e+05 5.32954269e+00]\n",
      "x_norm=  [[ 0.71588757 -0.16248371]\n",
      " [-1.4728113   2.65201669]\n",
      " [ 1.57561512  0.40041637]\n",
      " [ 2.29672508 -0.35011707]\n",
      " [ 0.16871285  0.02514965]]\n"
     ]
    }
   ],
   "source": [
    "#Appliying the function to the input data\n",
    "x, mu, sigma = FeatureNormalize(x) #Here, update x (input columns), so we normalize it\n",
    "\n",
    "#Printing the results of the function\n",
    "print('mu = ', mu)\n",
    "print('sigma = ', sigma)\n",
    "print('x_norm = ', x[:5])"
   ]
  },
  {
   "cell_type": "code",
   "execution_count": 18,
   "metadata": {},
   "outputs": [
    {
     "data": {
      "text/plain": [
       "array([-5.35047241e-17, -2.05685536e-14])"
      ]
     },
     "execution_count": 18,
     "metadata": {},
     "output_type": "execute_result"
    }
   ],
   "source": [
    "#Testing mean of already normalized input data\n",
    "mu_testing = np.mean(x, axis = 0)\n",
    "mu_testing"
   ]
  },
  {
   "cell_type": "code",
   "execution_count": 19,
   "metadata": {},
   "outputs": [
    {
     "data": {
      "text/plain": [
       "array([1., 1.])"
      ]
     },
     "execution_count": 19,
     "metadata": {},
     "output_type": "execute_result"
    }
   ],
   "source": [
    "#Testing standard deviation of already normalized input data\n",
    "sigma_testing = np.std(x, axis = 0, ddof = 1)\n",
    "sigma_testing"
   ]
  },
  {
   "cell_type": "code",
   "execution_count": 20,
   "metadata": {},
   "outputs": [
    {
     "data": {
      "text/plain": [
       "array([[ 1.        ,  0.71588757, -0.16248371],\n",
       "       [ 1.        , -1.4728113 ,  2.65201669],\n",
       "       [ 1.        ,  1.57561512,  0.40041637],\n",
       "       [ 1.        ,  2.29672508, -0.35011707],\n",
       "       [ 1.        ,  0.16871285,  0.02514965]])"
      ]
     },
     "execution_count": 20,
     "metadata": {},
     "output_type": "execute_result"
    }
   ],
   "source": [
    "#Using hstack() function from numpy to add column of ones to x feature (input datas). It is because of theta[0] value in the\n",
    "#hypothesis. It should not change in summation operation because usually theta[0] refers to initial value of something such as \n",
    "#the initial price of the car is theta[0] and we add other thetas multiply with other features to predict final price. So, this\n",
    "#will be our final x matrix (feature matrix)\n",
    "x = np.hstack((np.ones((m, 1)), x))\n",
    "x[:5]"
   ]
  },
  {
   "cell_type": "code",
   "execution_count": 21,
   "metadata": {},
   "outputs": [
    {
     "data": {
      "text/plain": [
       "array([12500, 53550, 11700,  9700, 12700], dtype=int64)"
      ]
     },
     "execution_count": 21,
     "metadata": {},
     "output_type": "execute_result"
    }
   ],
   "source": [
    "y[:5]"
   ]
  },
  {
   "cell_type": "markdown",
   "metadata": {},
   "source": [
    "<a id=\"section2\"></a>\n",
    "## Gradient Descent and Cost Function\n",
    "\n",
    "In this part, we create Gradient Descent function to fit the linear regression parameters $\\theta$ to our dataset using gradient descent.\n",
    "\n",
    "### Updated Equations\n",
    "\n",
    "The objective of linear regression is to minimize the cost function\n",
    "\n",
    "$$ J(\\theta) = \\frac{1}{2m} \\sum_{i=1}^m \\left( h_{\\theta}(x^{(i)}) - y^{(i)}\\right)^2$$\n",
    "\n",
    "where the hypothesis $h_\\theta(x)$ is given by the linear model\n",
    "$$ h_\\theta(x) = \\theta^Tx = \\theta_0 + \\theta_1 x_1$$\n",
    "\n",
    "Recall that the parameters of our model are the $\\theta_j$ values. These are\n",
    "the values we will adjust to minimize cost $J(\\theta)$. One way to do this is to\n",
    "use the batch gradient descent algorithm. In batch gradient descent, each\n",
    "iteration performs the update\n",
    "\n",
    "$$ \\theta_j = \\theta_j - \\alpha \\frac{1}{m} \\sum_{i=1}^m \\left( h_\\theta(x^{(i)}) - y^{(i)}\\right)x_j^{(i)} \\qquad \\text{simultaneously update } \\theta_j \\text{ for all } j$$\n",
    "\n",
    "With each step of gradient descent, our parameters $\\theta_j$ come closer to the optimal values that will achieve the lowest cost J($\\theta$).\n",
    "\n",
    "## Gradient Descent and Cost Function Implementation from Scratch"
   ]
  },
  {
   "cell_type": "code",
   "execution_count": 22,
   "metadata": {},
   "outputs": [],
   "source": [
    "#Creating Cost Function\n",
    "def ComputeCost(x, y, theta):\n",
    "    predictions = np.dot(x, theta) #Making prediction using linear regression hypothesis. It is used in Grad. Desc. and Cost Function\n",
    "    errors = np.subtract(predictions, y) #Calculating the errors based on predictions and actual values(y)\n",
    "    sqrErrors = np.square(errors) #Squaring errors for cost function formula\n",
    "    #J = 1 / (2 * m) * np.sum(sqrErrors)\n",
    "    #OR\n",
    "    #We can merge 'square' and 'sum' into one by taking the transpose of matrix 'errors' and taking dot product with itself\n",
    "    J = 1/(2 * m) * np.dot(errors.T, errors)\n",
    "    return J"
   ]
  },
  {
   "cell_type": "code",
   "execution_count": 23,
   "metadata": {},
   "outputs": [],
   "source": [
    "#Function for Gradient Descent (Batch Gradient Descent because we replaced derivative part with cost function formula and already simplified)\n",
    "def GradientDescent(x, y, theta, alpha, iterations):\n",
    "    CostHistory = np.zeros(iterations) #An array to store values of cost function in each iteration. We do not create an ordinary list and append costs becase it should be an numpy array for such tasks\n",
    "    for i in range(iterations):\n",
    "        predictions = np.dot(x, theta) #Making prediction using linear regression hypothesis. It is used in Grad. Desc. and Cost Function\n",
    "        errors = np.subtract(predictions, y) #Calculating the errors based on predictions and actual values(y)\n",
    "        sum_delta = (alpha / m) * x.T.dot(errors) #\n",
    "        theta = theta - sum_delta;\n",
    "        CostHistory[i] = ComputeCost(x, y, theta) #Changing values of CostHistory array to store the values of cost function\n",
    "    return theta, CostHistory"
   ]
  },
  {
   "cell_type": "code",
   "execution_count": 24,
   "metadata": {},
   "outputs": [],
   "source": [
    "#Defining some inputs for the above function to find suitable values for theta\n",
    "#We need theta parameter for every input variable. since we have three input variable including x_0 (column of ones)\n",
    "#The reason for making all thetas 0 is that in the formula, we multiply it with the normalized values of x (input datas) \n",
    "#so they are low enough and making all thetas initially 0 makes thetas high enough and gives logical values \n",
    "#when multiplying by x values (input datas)\n",
    "theta = np.zeros(3)\n",
    "iterations = 10000\n",
    "#Learning Rate\n",
    "alpha = 0.001"
   ]
  },
  {
   "cell_type": "code",
   "execution_count": 25,
   "metadata": {},
   "outputs": [
    {
     "name": "stdout",
     "output_type": "stream",
     "text": [
      "Final value of Thetas = [15115.76894652 -1343.01958704 11272.83889767]\n",
      "First 5 values from CostHistory = [2.06916608e+08 2.06484117e+08 2.06052703e+08 2.05622362e+08\n",
      " 2.05193090e+08]\n",
      "Last 5 values from CostHistory = [19779981.71854855 19779979.96711231 19779978.21717945 19779976.46874867\n",
      " 19779974.72181866]\n"
     ]
    }
   ],
   "source": [
    "#Finally, starting to function the GradientDescent function which is related with ComputeCost function, too in order to find \n",
    "#optimal values for thetas and observe the decreasing of cost function values from CostHistory array\n",
    "MainThetas, CostHistory = GradientDescent(x, y, theta, alpha, iterations)\n",
    "print('Final value of Thetas = ', MainThetas)\n",
    "print('First 5 values from CostHistory = ', CostHistory[:5])\n",
    "print('Last 5 values from CostHistory = ', CostHistory[-5 :])"
   ]
  },
  {
   "cell_type": "code",
   "execution_count": 26,
   "metadata": {},
   "outputs": [],
   "source": [
    "#Our Linear Regression hypothesis. We use it after running all above codes and defining most suitable values for thetas\n",
    "def hypothesis(x, theta):\n",
    "    NormalizingInputData = ((x - mu)/sigma)\n",
    "    AddingOnes = np.hstack((np.ones((len(x), 1)), NormalizingInputData))\n",
    "    price = AddingOnes.dot(theta)\n",
    "    return price"
   ]
  },
  {
   "cell_type": "markdown",
   "metadata": {},
   "source": [
    "## Testing"
   ]
  },
  {
   "cell_type": "code",
   "execution_count": 27,
   "metadata": {},
   "outputs": [
    {
     "data": {
      "text/plain": [
       "array([15840.75258635])"
      ]
     },
     "execution_count": 27,
     "metadata": {},
     "output_type": "execute_result"
    }
   ],
   "source": [
    "#Testing with \"Yurush\" 240000 and \"Buraxilish ili\" 2000\n",
    "hypothesis(np.array([[240000, 2000]]), MainThetas) #Actual Qiymet is 11500"
   ]
  },
  {
   "cell_type": "code",
   "execution_count": 28,
   "metadata": {},
   "outputs": [
    {
     "data": {
      "text/plain": [
       "array([5425.38779086])"
      ]
     },
     "execution_count": 28,
     "metadata": {},
     "output_type": "execute_result"
    }
   ],
   "source": [
    "#Testing with \"Yurush\" 240000 and \"Buraxilish ili\" 2000\n",
    "hypothesis(np.array([[415558, 1996]]), MainThetas) #Actual Qiymet is 8800"
   ]
  },
  {
   "cell_type": "code",
   "execution_count": 29,
   "metadata": {},
   "outputs": [],
   "source": [
    "#Creating a DataFrame for comparing actual and predicted values\n",
    "ComparisonData = pd.DataFrame({'Actual': y, 'Predicted': hypothesis(data.values[:, 0:2], MainThetas)})"
   ]
  },
  {
   "cell_type": "code",
   "execution_count": 30,
   "metadata": {},
   "outputs": [
    {
     "data": {
      "text/html": [
       "<div>\n",
       "<style scoped>\n",
       "    .dataframe tbody tr th:only-of-type {\n",
       "        vertical-align: middle;\n",
       "    }\n",
       "\n",
       "    .dataframe tbody tr th {\n",
       "        vertical-align: top;\n",
       "    }\n",
       "\n",
       "    .dataframe thead th {\n",
       "        text-align: right;\n",
       "    }\n",
       "</style>\n",
       "<table border=\"1\" class=\"dataframe\">\n",
       "  <thead>\n",
       "    <tr style=\"text-align: right;\">\n",
       "      <th></th>\n",
       "      <th>Actual</th>\n",
       "      <th>Predicted</th>\n",
       "    </tr>\n",
       "  </thead>\n",
       "  <tbody>\n",
       "    <tr>\n",
       "      <th>0</th>\n",
       "      <td>12500</td>\n",
       "      <td>12322.665258</td>\n",
       "    </tr>\n",
       "    <tr>\n",
       "      <th>1</th>\n",
       "      <td>53550</td>\n",
       "      <td>46989.540224</td>\n",
       "    </tr>\n",
       "    <tr>\n",
       "      <th>2</th>\n",
       "      <td>11700</td>\n",
       "      <td>17513.516222</td>\n",
       "    </tr>\n",
       "    <tr>\n",
       "      <th>3</th>\n",
       "      <td>9700</td>\n",
       "      <td>8084.408892</td>\n",
       "    </tr>\n",
       "    <tr>\n",
       "      <th>4</th>\n",
       "      <td>12700</td>\n",
       "      <td>15172.692256</td>\n",
       "    </tr>\n",
       "    <tr>\n",
       "      <th>...</th>\n",
       "      <td>...</td>\n",
       "      <td>...</td>\n",
       "    </tr>\n",
       "    <tr>\n",
       "      <th>1323</th>\n",
       "      <td>8800</td>\n",
       "      <td>6433.691248</td>\n",
       "    </tr>\n",
       "    <tr>\n",
       "      <th>1324</th>\n",
       "      <td>6300</td>\n",
       "      <td>2704.415228</td>\n",
       "    </tr>\n",
       "    <tr>\n",
       "      <th>1325</th>\n",
       "      <td>10900</td>\n",
       "      <td>11254.132475</td>\n",
       "    </tr>\n",
       "    <tr>\n",
       "      <th>1326</th>\n",
       "      <td>11300</td>\n",
       "      <td>16208.185768</td>\n",
       "    </tr>\n",
       "    <tr>\n",
       "      <th>1327</th>\n",
       "      <td>10500</td>\n",
       "      <td>7205.300930</td>\n",
       "    </tr>\n",
       "  </tbody>\n",
       "</table>\n",
       "<p>1328 rows × 2 columns</p>\n",
       "</div>"
      ],
      "text/plain": [
       "      Actual     Predicted\n",
       "0      12500  12322.665258\n",
       "1      53550  46989.540224\n",
       "2      11700  17513.516222\n",
       "3       9700   8084.408892\n",
       "4      12700  15172.692256\n",
       "...      ...           ...\n",
       "1323    8800   6433.691248\n",
       "1324    6300   2704.415228\n",
       "1325   10900  11254.132475\n",
       "1326   11300  16208.185768\n",
       "1327   10500   7205.300930\n",
       "\n",
       "[1328 rows x 2 columns]"
      ]
     },
     "execution_count": 30,
     "metadata": {},
     "output_type": "execute_result"
    }
   ],
   "source": [
    "ComparisonData"
   ]
  },
  {
   "cell_type": "code",
   "execution_count": 31,
   "metadata": {},
   "outputs": [
    {
     "data": {
      "image/png": "[encoded data removed]",
      "text/plain": [
       "<Figure size 720x576 with 1 Axes>"
      ]
     },
     "metadata": {
      "needs_background": "light"
     },
     "output_type": "display_data"
    }
   ],
   "source": [
    "#Comparing the Actual and Predicted values using bar plot for the first 50 values (for better view due to lots of data)\n",
    "ComparisonData[:50].plot(kind = 'bar',figsize = (10, 8))\n",
    "plt.grid(which = 'major', linestyle = '-', linewidth = '0.5', color = 'green')\n",
    "plt.grid(which = 'minor', linestyle = ':', linewidth = '0.5', color = 'black')\n",
    "plt.show()"
   ]
  },
  {
   "cell_type": "markdown",
   "metadata": {},
   "source": [
    "## Vizualization Part 2"
   ]
  },
  {
   "cell_type": "code",
   "execution_count": 32,
   "metadata": {},
   "outputs": [
    {
     "data": {
      "text/plain": [
       "Text(0.5, 1.0, 'Convergence of gradient descent')"
      ]
     },
     "execution_count": 32,
     "metadata": {},
     "output_type": "execute_result"
    },
    {
     "data": {
      "image/png": "[encoded data removed]",
      "text/plain": [
       "<Figure size 432x288 with 1 Axes>"
      ]
     },
     "metadata": {
      "needs_background": "light"
     },
     "output_type": "display_data"
    }
   ],
   "source": [
    "#Vizualizing CostHistory and Number of Iterations in order to show that Cost Function values decreases in each iteration\n",
    "plt.plot(range(1, iterations + 1), CostHistory, color = 'blue')\n",
    "plt.grid()\n",
    "plt.xlabel(\"Number of Iterations\", fontsize = 12)\n",
    "plt.ylabel(\"Values of Cost Function\", fontsize = 12)\n",
    "plt.title(\"Convergence of gradient descent\", fontsize = 16)"
   ]
  },
  {
   "cell_type": "code",
   "execution_count": 33,
   "metadata": {},
   "outputs": [
    {
     "data": {
      "image/png": "[encoded data removed]",
      "text/plain": [
       "<Figure size 432x288 with 1 Axes>"
      ]
     },
     "metadata": {
      "needs_background": "light"
     },
     "output_type": "display_data"
    }
   ],
   "source": [
    "#Vizualizing \"Buraxilish ili\" and \"Qiymet\" by scatter plot, and drawing line based on predicted values from the model\n",
    "\n",
    "#Scatter Plotting \"Buraxilish ili\" and \"Qiymet\" columns from actual data\n",
    "plt.scatter(data[\"Buraxilish ili\"], data[\"Qiymet\"], c = 'b')\n",
    "\n",
    "#Defining x and y values. y is the minimum and maximum values of \"Buraxilish ili\" column, x is the prediction \n",
    "#based on created model. mu, sigma, and and theta values are selected corresponding to index of \"Buraxilish ili\" column\n",
    "a = [data[\"Buraxilish ili\"].min(), data[\"Buraxilish ili\"].max()]\n",
    "a_min = MainThetas[0] + ((data[\"Buraxilish ili\"].min() - mu[1])/sigma[1])*MainThetas[2]\n",
    "b_max = MainThetas[0] + ((data[\"Buraxilish ili\"].max() - mu[1])/sigma[1])*MainThetas[2]\n",
    "b = [a_min, b_max]\n",
    "\n",
    "#Plotting (drawing line) based on above x and y values\n",
    "plt.plot(a, b, linewidth = 2, c = \"r\")\n",
    "plt.xlabel(\"Qiymet\", fontsize = 16)\n",
    "plt.ylabel(\"Buraxilish ili\", fontsize = 16)\n",
    "plt.title(\"Drawing Line\", fontsize = 20)\n",
    "plt.show()"
   ]
  },
  {
   "cell_type": "code",
   "execution_count": 34,
   "metadata": {},
   "outputs": [
    {
     "data": {
      "image/png": "[encoded data removed]",
      "text/plain": [
       "<Figure size 432x288 with 1 Axes>"
      ]
     },
     "metadata": {
      "needs_background": "light"
     },
     "output_type": "display_data"
    }
   ],
   "source": [
    "#Vizualizing \"Yurush\" and \"Qiymet\" by scatter plot, and drawing line based on predicted values from the model\n",
    "#Scatter Plotting \"Buraxilish ili\" and \"Qiymet\" columns from actual data\n",
    "plt.scatter(data[\"Yurush\"], data[\"Qiymet\"], c = 'b')\n",
    "\n",
    "#Defining x and y values. y is the minimum and maximum values of \"Yurush\" column, x is the prediction \n",
    "#based on created model. mu, sigma, and and theta values are selected corresponding to index of \"Yurush\" column\n",
    "a = [data[\"Yurush\"].min(), data[\"Yurush\"].max()]\n",
    "a_min = MainThetas[0] + ((data[\"Yurush\"].min() - mu[0])/sigma[0])*MainThetas[1]\n",
    "b_max = MainThetas[0] + ((data[\"Yurush\"].max() - mu[0])/sigma[0])*MainThetas[1]\n",
    "b = [a_min, b_max]\n",
    "\n",
    "#Plotting (drawing line) based on above x and y values\n",
    "plt.plot(a, b, linewidth = 2, c = \"r\")\n",
    "plt.xlabel(\"Qiymet\", fontsize = 16)\n",
    "plt.ylabel(\"Yurush\", fontsize = 16)\n",
    "plt.title(\"Drawing Line\", fontsize = 20)\n",
    "plt.show()"
   ]
  },
  {
   "cell_type": "code",
   "execution_count": 35,
   "metadata": {},
   "outputs": [
    {
     "data": {
      "image/png": "[encoded data removed]",
      "text/plain": [
       "<Figure size 432x288 with 1 Axes>"
      ]
     },
     "metadata": {
      "needs_background": "light"
     },
     "output_type": "display_data"
    }
   ],
   "source": [
    "#Vizualazing 3D plot of all 3 Column Values, \"Yurush\", \"Buraxilish ili\", \"Qiymet\", \n",
    "#and again \"Yurush\", \"Buraxilish ili\" and Predicted Values from the model\n",
    "figure = plt.figure()\n",
    "threeD = Axes3D(figure)\n",
    "threeD.scatter(data[\"Yurush\"], data[\"Buraxilish ili\"], data[\"Qiymet\"], color = 'b')\n",
    "threeD.scatter(data[\"Yurush\"], data[\"Buraxilish ili\"], hypothesis(data.values[:, 0:2], MainThetas), color = 'r')\n",
    "threeD.set_xlabel(\"Yurush\", fontsize = 16)\n",
    "threeD.set_ylabel(\"Buraxilish ili\", fontsize = 16)\n",
    "threeD.set_zlabel(\"Qiymet\", fontsize = 16)\n",
    "plt.title(\"3 Dimensional Plot\", fontsize = 20)\n",
    "plt.show()"
   ]
  },
  {
   "cell_type": "code",
   "execution_count": 36,
   "metadata": {},
   "outputs": [
    {
     "data": {
      "image/png": "[encoded data removed]",
      "text/plain": [
       "<Figure size 432x288 with 1 Axes>"
      ]
     },
     "metadata": {
      "needs_background": "light"
     },
     "output_type": "display_data"
    }
   ],
   "source": [
    "#Assinging different alpha values (learing rates) for the Gradient Descent algorithm to see how it affects \n",
    "#the Convergence (Decreasing or Increasing) of cost function values in each iteration\n",
    "\n",
    "iterations = 400\n",
    "theta = np.zeros(3)\n",
    "\n",
    "alpha = 0.005\n",
    "theta_1, CostHistory1 = GradientDescent(x, y, theta, alpha, iterations)\n",
    "\n",
    "alpha = 0.01\n",
    "theta_2, CostHistory2 = GradientDescent(x, y, theta, alpha, iterations)\n",
    "\n",
    "alpha = 0.02\n",
    "theta_3, CostHistory3 = GradientDescent(x, y, theta, alpha, iterations)\n",
    "\n",
    "alpha = 0.03\n",
    "theta_4, CostHistory4 = GradientDescent(x, y, theta, alpha, iterations)\n",
    "\n",
    "alpha = 0.15\n",
    "theta_5, CostHistory5 = GradientDescent(x, y, theta, alpha, iterations)\n",
    "\n",
    "plt.plot(range(1, iterations + 1), CostHistory1, color = 'purple', label = 'alpha = 0.005')\n",
    "plt.plot(range(1, iterations + 1), CostHistory2, color = 'red', label = 'alpha = 0.01')\n",
    "plt.plot(range(1, iterations + 1), CostHistory3, color = 'green', label = 'alpha = 0.02')\n",
    "plt.plot(range(1, iterations + 1), CostHistory4, color = 'yellow', label = 'alpha = 0.03')\n",
    "plt.plot(range(1, iterations + 1), CostHistory5, color = 'blue', label = 'alpha = 0.15')\n",
    "\n",
    "plt.rcParams[\"figure.figsize\"] = (10, 6)\n",
    "plt.grid()\n",
    "plt.xlabel(\"Number of iterations\", fontsize = 12)\n",
    "plt.ylabel(\"Values of Cost Function\", fontsize = 12)\n",
    "plt.title(\"Effect of Learning Rate On Convergence of Gradient Descent\", fontsize = 16)\n",
    "plt.legend()\n",
    "plt.show()"
   ]
  },
  {
   "cell_type": "code",
   "execution_count": 37,
   "metadata": {},
   "outputs": [
    {
     "data": {
      "text/plain": [
       "Text(0.5, 1.0, 'Effect of Large Learning Rate On Convergence of Gradient Descent')"
      ]
     },
     "execution_count": 37,
     "metadata": {},
     "output_type": "execute_result"
    },
    {
     "data": {
      "image/png": "[encoded data removed]",
      "text/plain": [
       "<Figure size 720x432 with 1 Axes>"
      ]
     },
     "metadata": {
      "needs_background": "light"
     },
     "output_type": "display_data"
    }
   ],
   "source": [
    "#Here, we make the value of alpha too high to see how it effect the cost function values in each iteration. Expectedly, it\n",
    "#increases through iteration and we should keep alpha low and fixed beacuse we want cost function values (mean squared error)\n",
    "#to decrease not increase \n",
    "\n",
    "iterations = 100\n",
    "theta = np.zeros(3)\n",
    "\n",
    "alpha = 1.32\n",
    "theta_6, CostHistory6 = GradientDescent(x, y, theta, alpha, iterations)\n",
    "\n",
    "plt.plot(range(1, iterations + 1), CostHistory6, color = 'brown')\n",
    "plt.grid()\n",
    "plt.xlabel(\"Number of iterations\", fontsize = 12)\n",
    "plt.ylabel(\"Cost Function Values\", fontsize = 12)\n",
    "plt.title(\"Effect of Large Learning Rate On Convergence of Gradient Descent\", fontsize = 14)"
   ]
  },
  {
   "cell_type": "markdown",
   "metadata": {},
   "source": [
    "## Linear Regression Using Library"
   ]
  },
  {
   "cell_type": "code",
   "execution_count": 38,
   "metadata": {},
   "outputs": [],
   "source": [
    "#Extracting input and output columns\n",
    "x = data.values[:, 0:2]\n",
    "y = data.values[:, 2]\n",
    "#Spliting input and output datas into train and test part using the library function (train_test_split()))\n",
    "x_train, x_test, y_train, y_test = train_test_split(x, y, test_size = 0.2, random_state = 101)"
   ]
  },
  {
   "cell_type": "code",
   "execution_count": 39,
   "metadata": {},
   "outputs": [
    {
     "data": {
      "text/plain": [
       "LinearRegression()"
      ]
     },
     "execution_count": 39,
     "metadata": {},
     "output_type": "execute_result"
    }
   ],
   "source": [
    "#Initializing the Linear Regression Model\n",
    "model = LinearRegression()\n",
    "#Fitting data to the model\n",
    "model.fit(x_train, y_train)"
   ]
  },
  {
   "cell_type": "code",
   "execution_count": 40,
   "metadata": {},
   "outputs": [
    {
     "name": "stdout",
     "output_type": "stream",
     "text": [
      "Interception is -4274981.946930431\n",
      "Slope is [-1.02021687e-02  2.14668384e+03]\n"
     ]
    }
   ],
   "source": [
    "#Printing intercept and coefficient of the model\n",
    "print(\"Interception is\", model.intercept_)\n",
    "print(\"Slope is\", model.coef_)"
   ]
  },
  {
   "cell_type": "code",
   "execution_count": 41,
   "metadata": {},
   "outputs": [],
   "source": [
    "#Predicting test values\n",
    "y_pred = model.predict(x_test)"
   ]
  },
  {
   "cell_type": "code",
   "execution_count": 42,
   "metadata": {},
   "outputs": [
    {
     "name": "stdout",
     "output_type": "stream",
     "text": [
      "R Squared is: 0.7465759235907419\n",
      "Adjusted R^2 is: 0.7446487443024585\n",
      "Mean Absolute Error is: 4222.383467901494\n",
      "Mean Squared Error is: 40242454.522250615\n",
      "Root Mean Squared Error is: 6343.694075398861\n"
     ]
    }
   ],
   "source": [
    "#Printing Scores of the Model\n",
    "R2 = metrics.r2_score(y_test, y_pred)\n",
    "n = x_test.shape[0] #sample size\n",
    "p = x_test.shape[1] #number of predictors\n",
    "print(\"R Squared is:\", metrics.r2_score(y_test, y_pred))\n",
    "print('Adjusted R^2 is:', 1 - (1 - R2)*(n - 1)/(n - p - 1))\n",
    "print('Mean Absolute Error is:', metrics.mean_absolute_error(y_test, y_pred)) \n",
    "print('Mean Squared Error is:', metrics.mean_squared_error(y_test, y_pred)) \n",
    "print('Root Mean Squared Error is:', np.sqrt(metrics.mean_squared_error(y_test, y_pred)))"
   ]
  },
  {
   "cell_type": "code",
   "execution_count": 43,
   "metadata": {},
   "outputs": [],
   "source": [
    "#Creating a DataFrame to compare Actual and Predicted values\n",
    "Comparison = pd.DataFrame({'Actual': y_test, 'Predicted': y_pred})"
   ]
  },
  {
   "cell_type": "code",
   "execution_count": 44,
   "metadata": {},
   "outputs": [
    {
     "data": {
      "text/html": [
       "<div>\n",
       "<style scoped>\n",
       "    .dataframe tbody tr th:only-of-type {\n",
       "        vertical-align: middle;\n",
       "    }\n",
       "\n",
       "    .dataframe tbody tr th {\n",
       "        vertical-align: top;\n",
       "    }\n",
       "\n",
       "    .dataframe thead th {\n",
       "        text-align: right;\n",
       "    }\n",
       "</style>\n",
       "<table border=\"1\" class=\"dataframe\">\n",
       "  <thead>\n",
       "    <tr style=\"text-align: right;\">\n",
       "      <th></th>\n",
       "      <th>Actual</th>\n",
       "      <th>Predicted</th>\n",
       "    </tr>\n",
       "  </thead>\n",
       "  <tbody>\n",
       "    <tr>\n",
       "      <th>0</th>\n",
       "      <td>12500</td>\n",
       "      <td>13423.258988</td>\n",
       "    </tr>\n",
       "    <tr>\n",
       "      <th>1</th>\n",
       "      <td>9800</td>\n",
       "      <td>5407.845057</td>\n",
       "    </tr>\n",
       "    <tr>\n",
       "      <th>2</th>\n",
       "      <td>12700</td>\n",
       "      <td>15325.090784</td>\n",
       "    </tr>\n",
       "    <tr>\n",
       "      <th>3</th>\n",
       "      <td>11250</td>\n",
       "      <td>11444.038265</td>\n",
       "    </tr>\n",
       "    <tr>\n",
       "      <th>4</th>\n",
       "      <td>12700</td>\n",
       "      <td>15325.090784</td>\n",
       "    </tr>\n",
       "    <tr>\n",
       "      <th>...</th>\n",
       "      <td>...</td>\n",
       "      <td>...</td>\n",
       "    </tr>\n",
       "    <tr>\n",
       "      <th>261</th>\n",
       "      <td>9500</td>\n",
       "      <td>4591.671563</td>\n",
       "    </tr>\n",
       "    <tr>\n",
       "      <th>262</th>\n",
       "      <td>12500</td>\n",
       "      <td>12505.063807</td>\n",
       "    </tr>\n",
       "    <tr>\n",
       "      <th>263</th>\n",
       "      <td>11399</td>\n",
       "      <td>7864.832586</td>\n",
       "    </tr>\n",
       "    <tr>\n",
       "      <th>264</th>\n",
       "      <td>9000</td>\n",
       "      <td>7503.518058</td>\n",
       "    </tr>\n",
       "    <tr>\n",
       "      <th>265</th>\n",
       "      <td>16000</td>\n",
       "      <td>29888.551680</td>\n",
       "    </tr>\n",
       "  </tbody>\n",
       "</table>\n",
       "<p>266 rows × 2 columns</p>\n",
       "</div>"
      ],
      "text/plain": [
       "     Actual     Predicted\n",
       "0     12500  13423.258988\n",
       "1      9800   5407.845057\n",
       "2     12700  15325.090784\n",
       "3     11250  11444.038265\n",
       "4     12700  15325.090784\n",
       "..      ...           ...\n",
       "261    9500   4591.671563\n",
       "262   12500  12505.063807\n",
       "263   11399   7864.832586\n",
       "264    9000   7503.518058\n",
       "265   16000  29888.551680\n",
       "\n",
       "[266 rows x 2 columns]"
      ]
     },
     "execution_count": 44,
     "metadata": {},
     "output_type": "execute_result"
    }
   ],
   "source": [
    "Comparison"
   ]
  },
  {
   "cell_type": "code",
   "execution_count": 45,
   "metadata": {},
   "outputs": [
    {
     "data": {
      "image/png": "[encoded data removed]",
      "text/plain": [
       "<Figure size 720x576 with 1 Axes>"
      ]
     },
     "metadata": {
      "needs_background": "light"
     },
     "output_type": "display_data"
    }
   ],
   "source": [
    "# Comparing the Actual and Predicted values using plot\n",
    "Comparison[:50].plot(kind = 'bar', figsize = (10, 8))\n",
    "plt.grid(which = 'major', linestyle = '-', linewidth = '0.5', color = 'green')\n",
    "plt.grid(which = 'minor', linestyle = ':', linewidth = '0.5', color = 'black')\n",
    "plt.show()"
   ]
  },
  {
   "cell_type": "markdown",
   "metadata": {},
   "source": [
    "# Linear Regression with Normal Equation"
   ]
  },
  {
   "cell_type": "markdown",
   "metadata": {},
   "source": [
    "In this part, we implement the Normal Equation to our dataset in order to find optimal values of thetas using the following formula.\n",
    "\n",
    "$$ \\theta = \\left( X^T X\\right)^{-1} X^T\\vec{y}$$\n",
    "\n",
    "Using this formula does not require any feature scaling, and we will get an exact solution in one calculation: there is no “loop until convergence” like in gradient descent. \n",
    "\n",
    "First, we will take the data itself from initial form in this script to ensure that the variables have not been modified. Remember that while we do not need to scale our features, we still need to add a column of 1’s to the $x$ matrix to have an intercept term ($\\theta_0$)."
   ]
  },
  {
   "cell_type": "code",
   "execution_count": 46,
   "metadata": {},
   "outputs": [],
   "source": [
    "#Creating Function to apply Normal Equation Formula and making Predictions\n",
    "def NormalEquationPrediction(x, y):\n",
    "    m = len(x)\n",
    "    #Adding ones to hte left of the input data\n",
    "    x = np.hstack((np.ones((m, 1)), x))\n",
    "    #Reshaping output data in order to be suitable for multiplication \n",
    "    #operations (includes several types (matrix - matrix, matrix - vector etc.))\n",
    "    y = y.reshape(m, 1)\n",
    "    #Applying Normal Equation Formula to find optimal values of theta\n",
    "    theta = np.linalg.inv(x.T.dot(x)).dot(x.T).dot(y)\n",
    "    #Making Predictions using Linear Regression Hypothesis\n",
    "    prediction = np.dot(x, theta)\n",
    "    return prediction"
   ]
  },
  {
   "cell_type": "code",
   "execution_count": 47,
   "metadata": {},
   "outputs": [
    {
     "data": {
      "text/plain": [
       "array([[12361.44403771],\n",
       "       [47071.40443639],\n",
       "       [17650.22951882],\n",
       "       ...,\n",
       "       [11226.34671873],\n",
       "       [16169.13732762],\n",
       "       [ 7142.37845148]])"
      ]
     },
     "execution_count": 47,
     "metadata": {},
     "output_type": "execute_result"
    }
   ],
   "source": [
    "#Predicting Output Values\n",
    "NormalEquationPrediction(data.values[:, 0:2], data.values[:, 2])"
   ]
  },
  {
   "cell_type": "code",
   "execution_count": 48,
   "metadata": {},
   "outputs": [],
   "source": [
    "#Creating Comparison DataFrame\n",
    "#P.S flatten() function is used to make data size suitable for creating DataFrame\n",
    "Comparison = pd.DataFrame({'Actual': y.flatten(), 'Predicted': NormalEquationPrediction(data.values[:, 0:2], data.values[:, 2]).flatten()})"
   ]
  },
  {
   "cell_type": "code",
   "execution_count": 49,
   "metadata": {},
   "outputs": [
    {
     "data": {
      "text/html": [
       "<div>\n",
       "<style scoped>\n",
       "    .dataframe tbody tr th:only-of-type {\n",
       "        vertical-align: middle;\n",
       "    }\n",
       "\n",
       "    .dataframe tbody tr th {\n",
       "        vertical-align: top;\n",
       "    }\n",
       "\n",
       "    .dataframe thead th {\n",
       "        text-align: right;\n",
       "    }\n",
       "</style>\n",
       "<table border=\"1\" class=\"dataframe\">\n",
       "  <thead>\n",
       "    <tr style=\"text-align: right;\">\n",
       "      <th></th>\n",
       "      <th>Actual</th>\n",
       "      <th>Predicted</th>\n",
       "    </tr>\n",
       "  </thead>\n",
       "  <tbody>\n",
       "    <tr>\n",
       "      <th>0</th>\n",
       "      <td>12500</td>\n",
       "      <td>12361.444038</td>\n",
       "    </tr>\n",
       "    <tr>\n",
       "      <th>1</th>\n",
       "      <td>53550</td>\n",
       "      <td>47071.404436</td>\n",
       "    </tr>\n",
       "    <tr>\n",
       "      <th>2</th>\n",
       "      <td>11700</td>\n",
       "      <td>17650.229519</td>\n",
       "    </tr>\n",
       "    <tr>\n",
       "      <th>3</th>\n",
       "      <td>9700</td>\n",
       "      <td>8219.095252</td>\n",
       "    </tr>\n",
       "    <tr>\n",
       "      <th>4</th>\n",
       "      <td>12700</td>\n",
       "      <td>15186.720627</td>\n",
       "    </tr>\n",
       "    <tr>\n",
       "      <th>...</th>\n",
       "      <td>...</td>\n",
       "      <td>...</td>\n",
       "    </tr>\n",
       "    <tr>\n",
       "      <th>1323</th>\n",
       "      <td>8800</td>\n",
       "      <td>6410.319555</td>\n",
       "    </tr>\n",
       "    <tr>\n",
       "      <th>1324</th>\n",
       "      <td>6300</td>\n",
       "      <td>2629.527194</td>\n",
       "    </tr>\n",
       "    <tr>\n",
       "      <th>1325</th>\n",
       "      <td>10900</td>\n",
       "      <td>11226.346719</td>\n",
       "    </tr>\n",
       "    <tr>\n",
       "      <th>1326</th>\n",
       "      <td>11300</td>\n",
       "      <td>16169.137328</td>\n",
       "    </tr>\n",
       "    <tr>\n",
       "      <th>1327</th>\n",
       "      <td>10500</td>\n",
       "      <td>7142.378451</td>\n",
       "    </tr>\n",
       "  </tbody>\n",
       "</table>\n",
       "<p>1328 rows × 2 columns</p>\n",
       "</div>"
      ],
      "text/plain": [
       "      Actual     Predicted\n",
       "0      12500  12361.444038\n",
       "1      53550  47071.404436\n",
       "2      11700  17650.229519\n",
       "3       9700   8219.095252\n",
       "4      12700  15186.720627\n",
       "...      ...           ...\n",
       "1323    8800   6410.319555\n",
       "1324    6300   2629.527194\n",
       "1325   10900  11226.346719\n",
       "1326   11300  16169.137328\n",
       "1327   10500   7142.378451\n",
       "\n",
       "[1328 rows x 2 columns]"
      ]
     },
     "execution_count": 49,
     "metadata": {},
     "output_type": "execute_result"
    }
   ],
   "source": [
    "Comparison"
   ]
  },
  {
   "cell_type": "markdown",
   "metadata": {},
   "source": [
    "# Polynomial Regression"
   ]
  },
  {
   "cell_type": "code",
   "execution_count": 50,
   "metadata": {},
   "outputs": [
    {
     "name": "stdout",
     "output_type": "stream",
     "text": [
      "Car 1 whose Yurush is 240000, Buraxilish ili: 2000, Qiymet: 11500 is predicted as 11480.986413359642  and error between Actual and Predicted values is 19.01358664035797\n",
      "===============================================================================================================================\n",
      "Car 2 whose Yurush is 415558, Buraxilish ili: 1996, Qiymet: 8800 is predicted as 9611.255139946938  and error between Actual and Predicted values is 811.2551399469376\n"
     ]
    }
   ],
   "source": [
    "#Here, we are doing Polynomial Regression using built-in Python Library for convenience. For more and very useful information\n",
    "#press Shift+Tab inside PolynomialFeatures() function.\n",
    "#Importing a library to define number of features (input columns)\n",
    "from sklearn.preprocessing import PolynomialFeatures\n",
    "#Defining number of features\n",
    "features = PolynomialFeatures(2)\n",
    "#Initializing the model\n",
    "model = LinearRegression()\n",
    "#Fitting input data columns to the model\n",
    "model.fit(features.fit_transform(data[[\"Yurush\", \"Buraxilish ili\"]].values), data[\"Qiymet\"])\n",
    "#Defining actual values for outputs\n",
    "actual = np.array([11500, 8800])\n",
    "#Testing the model by predicting some input values whose actual values recently were initialized above\n",
    "predicted = model.predict(features.transform([[240000, 2000], [415558, 1996]]))\n",
    "#Finding Error from the model based on predicted and actual values\n",
    "error = np.abs(predicted - actual)\n",
    "#Printing the results, kind of Testing\n",
    "print(\"Car 1 whose Yurush is 240000, Buraxilish ili: 2000, Qiymet: 11500 is predicted as\", \n",
    "      predicted[0], \" and error between Actual and Predicted values is\", error[0])\n",
    "print(\"===============================================================================================================================\")\n",
    "print(\"Car 2 whose Yurush is 415558, Buraxilish ili: 1996, Qiymet: 8800 is predicted as\", \n",
    "      predicted[1], \" and error between Actual and Predicted values is\", error[1])"
   ]
  },
  {
   "cell_type": "code",
   "execution_count": 51,
   "metadata": {},
   "outputs": [],
   "source": [
    "Comparison = pd.DataFrame({'Actual': data.values[:, 2], 'Predicted':  model.predict(features.transform(data.values[:, 0:2]))})"
   ]
  },
  {
   "cell_type": "code",
   "execution_count": 52,
   "metadata": {},
   "outputs": [
    {
     "data": {
      "text/html": [
       "<div>\n",
       "<style scoped>\n",
       "    .dataframe tbody tr th:only-of-type {\n",
       "        vertical-align: middle;\n",
       "    }\n",
       "\n",
       "    .dataframe tbody tr th {\n",
       "        vertical-align: top;\n",
       "    }\n",
       "\n",
       "    .dataframe thead th {\n",
       "        text-align: right;\n",
       "    }\n",
       "</style>\n",
       "<table border=\"1\" class=\"dataframe\">\n",
       "  <thead>\n",
       "    <tr style=\"text-align: right;\">\n",
       "      <th></th>\n",
       "      <th>Actual</th>\n",
       "      <th>Predicted</th>\n",
       "    </tr>\n",
       "  </thead>\n",
       "  <tbody>\n",
       "    <tr>\n",
       "      <th>0</th>\n",
       "      <td>12500</td>\n",
       "      <td>10119.116033</td>\n",
       "    </tr>\n",
       "    <tr>\n",
       "      <th>1</th>\n",
       "      <td>53550</td>\n",
       "      <td>51980.578644</td>\n",
       "    </tr>\n",
       "    <tr>\n",
       "      <th>2</th>\n",
       "      <td>11700</td>\n",
       "      <td>11965.539704</td>\n",
       "    </tr>\n",
       "    <tr>\n",
       "      <th>3</th>\n",
       "      <td>9700</td>\n",
       "      <td>8991.717326</td>\n",
       "    </tr>\n",
       "    <tr>\n",
       "      <th>4</th>\n",
       "      <td>12700</td>\n",
       "      <td>11148.371794</td>\n",
       "    </tr>\n",
       "    <tr>\n",
       "      <th>...</th>\n",
       "      <td>...</td>\n",
       "      <td>...</td>\n",
       "    </tr>\n",
       "    <tr>\n",
       "      <th>1323</th>\n",
       "      <td>8800</td>\n",
       "      <td>9723.322286</td>\n",
       "    </tr>\n",
       "    <tr>\n",
       "      <th>1324</th>\n",
       "      <td>6300</td>\n",
       "      <td>10533.308509</td>\n",
       "    </tr>\n",
       "    <tr>\n",
       "      <th>1325</th>\n",
       "      <td>10900</td>\n",
       "      <td>10038.204360</td>\n",
       "    </tr>\n",
       "    <tr>\n",
       "      <th>1326</th>\n",
       "      <td>11300</td>\n",
       "      <td>11659.274319</td>\n",
       "    </tr>\n",
       "    <tr>\n",
       "      <th>1327</th>\n",
       "      <td>10500</td>\n",
       "      <td>9792.296700</td>\n",
       "    </tr>\n",
       "  </tbody>\n",
       "</table>\n",
       "<p>1328 rows × 2 columns</p>\n",
       "</div>"
      ],
      "text/plain": [
       "      Actual     Predicted\n",
       "0      12500  10119.116033\n",
       "1      53550  51980.578644\n",
       "2      11700  11965.539704\n",
       "3       9700   8991.717326\n",
       "4      12700  11148.371794\n",
       "...      ...           ...\n",
       "1323    8800   9723.322286\n",
       "1324    6300  10533.308509\n",
       "1325   10900  10038.204360\n",
       "1326   11300  11659.274319\n",
       "1327   10500   9792.296700\n",
       "\n",
       "[1328 rows x 2 columns]"
      ]
     },
     "execution_count": 52,
     "metadata": {},
     "output_type": "execute_result"
    }
   ],
   "source": [
    "Comparison"
   ]
  },
  {
   "cell_type": "code",
   "execution_count": 53,
   "metadata": {},
   "outputs": [
    {
     "data": {
      "image/png": "[encoded data removed]",
      "text/plain": [
       "<Figure size 720x576 with 1 Axes>"
      ]
     },
     "metadata": {
      "needs_background": "light"
     },
     "output_type": "display_data"
    }
   ],
   "source": [
    "# Comparing the Actual and Predicted values using plot\n",
    "Comparison[:50].plot(kind = 'bar', figsize = (10, 8))\n",
    "plt.grid(which = 'major', linestyle = '-', linewidth = '0.5', color = 'green')\n",
    "plt.grid(which = 'minor', linestyle = ':', linewidth = '0.5', color = 'black')\n",
    "plt.show()"
   ]
  },
  {
   "cell_type": "code",
   "execution_count": 54,
   "metadata": {},
   "outputs": [
    {
     "data": {
      "text/plain": [
       "0.9217673939579433"
      ]
     },
     "execution_count": 54,
     "metadata": {},
     "output_type": "execute_result"
    }
   ],
   "source": [
    "#Creating Function to calculate score of the model. For understandable formula, googling would be usefull\n",
    "def r2_score(actual, predicted):\n",
    "    return 1 - (np.sum((model.predict(features.transform(data.values[:, 0:2])) - data.values[:, 2])**2)/\n",
    "                np.sum((data.values[:, 2] - np.mean(data.values[:, 2]))**2))\n",
    "#Calling Function and Printing the Score of the Polynomial Regression Model\n",
    "r2_score(data.values[:, 2], model.predict(features.transform(data.values[:, 0:2])))"
   ]
  }
 ],
 "metadata": {
  "kernelspec": {
   "display_name": "Python 3",
   "language": "python",
   "name": "python3"
  },
  "language_info": {
   "codemirror_mode": {
    "name": "ipython",
    "version": 3
   },
   "file_extension": ".py",
   "mimetype": "text/x-python",
   "name": "python",
   "nbconvert_exporter": "python",
   "pygments_lexer": "ipython3",
   "version": "3.8.3"
  }
 },
 "nbformat": 4,
 "nbformat_minor": 4
}
